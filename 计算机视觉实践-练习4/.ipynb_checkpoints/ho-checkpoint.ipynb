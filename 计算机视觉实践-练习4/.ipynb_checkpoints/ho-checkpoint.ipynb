{
 "cells": [
  {
   "cell_type": "code",
   "execution_count": 18,
   "metadata": {},
   "outputs": [],
   "source": [
    "import cv2\n",
    "import numpy as np\n",
    " \n",
    "if __name__ == '__main__' :\n",
    " \n",
    "    # Read source image.\n",
    "    im_src = cv2.imread('image1.png')\n",
    "    # Four corners of the book in source image\n",
    "    pts_src = np.array([[141, 131], [480, 159], [493, 630],[64, 601]])\n",
    " \n",
    "    # Read destination image.\n",
    "    im_dst = cv2.imread('image2.png')\n",
    "    # Four corners of the book in destination image.\n",
    "    pts_dst = np.array([[318, 256],[534, 372],[316, 670],[73, 473]])\n",
    " \n",
    "    # Calculate Homography\n",
    "    h, status = cv2.findHomography(pts_src, pts_dst)\n",
    " \n",
    "    # Warp source image to destination based on homography\n",
    "    im_out = cv2.warpPerspective(im_src, h, (im_dst.shape[1],im_dst.shape[0]))\n",
    " \n",
    "    # Display images\n",
    "    cv2.imshow(\"Source Image\", im_src)\n",
    "    cv2.imshow(\"Destination Image\", im_dst)\n",
    "    cv2.imshow(\"Warped Source Image\", im_out)\n",
    " \n",
    "    cv2.waitKey(0)\n"
   ]
  },
  {
   "cell_type": "code",
   "execution_count": null,
   "metadata": {},
   "outputs": [],
   "source": []
  },
  {
   "cell_type": "code",
   "execution_count": null,
   "metadata": {},
   "outputs": [],
   "source": []
  }
 ],
 "metadata": {
  "kernelspec": {
   "display_name": "Python 3 (ipykernel)",
   "language": "python",
   "name": "python3"
  },
  "language_info": {
   "codemirror_mode": {
    "name": "ipython",
    "version": 3
   },
   "file_extension": ".py",
   "mimetype": "text/x-python",
   "name": "python",
   "nbconvert_exporter": "python",
   "pygments_lexer": "ipython3",
   "version": "3.10.9"
  }
 },
 "nbformat": 4,
 "nbformat_minor": 2
}
